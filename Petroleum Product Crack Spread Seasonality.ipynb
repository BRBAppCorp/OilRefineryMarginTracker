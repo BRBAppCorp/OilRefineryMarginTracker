{
 "cells": [
  {
   "cell_type": "code",
   "execution_count": 1,
   "metadata": {},
   "outputs": [
    {
     "ename": "ModuleNotFoundError",
     "evalue": "No module named 'calmap'",
     "output_type": "error",
     "traceback": [
      "\u001b[0;31m---------------------------------------------------------------------------\u001b[0m",
      "\u001b[0;31mModuleNotFoundError\u001b[0m                       Traceback (most recent call last)",
      "\u001b[0;32m<ipython-input-1-9fd7f1df7173>\u001b[0m in \u001b[0;36m<module>\u001b[0;34m\u001b[0m\n\u001b[1;32m      4\u001b[0m \u001b[0;32mimport\u001b[0m \u001b[0mseaborn\u001b[0m \u001b[0;32mas\u001b[0m \u001b[0msns\u001b[0m\u001b[0;34m\u001b[0m\u001b[0;34m\u001b[0m\u001b[0m\n\u001b[1;32m      5\u001b[0m \u001b[0;32mimport\u001b[0m \u001b[0mmatplotlib\u001b[0m\u001b[0;34m.\u001b[0m\u001b[0mpyplot\u001b[0m \u001b[0;32mas\u001b[0m \u001b[0mplt\u001b[0m\u001b[0;34m\u001b[0m\u001b[0;34m\u001b[0m\u001b[0m\n\u001b[0;32m----> 6\u001b[0;31m \u001b[0;32mimport\u001b[0m \u001b[0mcalmap\u001b[0m\u001b[0;34m\u001b[0m\u001b[0;34m\u001b[0m\u001b[0m\n\u001b[0m\u001b[1;32m      7\u001b[0m \u001b[0;32mimport\u001b[0m \u001b[0mnumpy\u001b[0m \u001b[0;32mas\u001b[0m \u001b[0mnp\u001b[0m\u001b[0;34m\u001b[0m\u001b[0;34m\u001b[0m\u001b[0m\n\u001b[1;32m      8\u001b[0m \u001b[0;34m\u001b[0m\u001b[0m\n",
      "\u001b[0;31mModuleNotFoundError\u001b[0m: No module named 'calmap'"
     ]
    }
   ],
   "source": [
    "import quandl\n",
    "import pandas as pd \n",
    "%matplotlib inline\n",
    "import seaborn as sns\n",
    "import matplotlib.pyplot as plt\n",
    "import calmap\n",
    "import numpy as np \n",
    "\n"
   ]
  },
  {
   "cell_type": "code",
   "execution_count": null,
   "metadata": {},
   "outputs": [],
   "source": [
    "quandl.ApiConfig.api_key = '' #keys are in the Quandl account setting, it is individual"
   ]
  },
  {
   "cell_type": "code",
   "execution_count": null,
   "metadata": {},
   "outputs": [],
   "source": [
    "rbb1 = quandl.get(\"CHRIS/CME_RBB1\", returns=\"panda\") #RBOB Crack\n",
    "en1 = quandl.get(\"CHRIS/CME_EN1\", returns=\"panda\") #european naphtha crack\n",
    "hk1 = quandl.get(\"CHRIS/CME_HK1\", returns=\"panda\") #diesel crack\n",
    "gz1 = quandl.get(\"CHRIS/CME_GZ1\", returns=\"panda\") #gasoil crack\n",
    "gy1 = quandl.get(\"CHRIS/CME_GY1\", returns=\"panda\") #Gulf crack\n",
    "nb1 = quandl.get(\"CHRIS/CME_1NB1\", returns=\"panda\") #Sing Mogas crack\n",
    "fo1 = quandl.get(\"CHRIS/CME_FO1\", returns=\"panda\") #Rdam Barges crack\n",
    "k1 = quandl.get(\"CHRIS/CME_7K1\", returns=\"panda\") #EBOB crack\n",
    "mg1 = quandl.get(\"CHRIS/CME_MG1\", returns=\"panda\") #gulf #6 crack\n",
    "#there are many many more... but just to run a few "
   ]
  },
  {
   "cell_type": "code",
   "execution_count": null,
   "metadata": {},
   "outputs": [],
   "source": [
    "fig, ax = plt.subplots(figsize=(6, 4))\n",
    "data=rbb1\n",
    "ax.plot(data.index.values,\n",
    "        data['Settle'].values,\n",
    "        color='purple')\n",
    "fig.suptitle('RBOB Crack Spread Time Series', fontsize=20)\n",
    "event=pd.Series(data['Settle'].values, index=data.index.values)\n",
    "calmap.calendarplot(event, monthticks=1, daylabels='MTWTF',\n",
    "                    dayticks=1, cmap='YlGn',\n",
    "                    fillcolor='grey', linewidth=0,\n",
    "                    fig_kws=dict(figsize=(15, 8)),yearlabel_kws=dict(fontsize=15))\n",
    "\n",
    "fig.suptitle('RBOB Crack Spread Seasonality', fontsize=20)"
   ]
  },
  {
   "cell_type": "code",
   "execution_count": null,
   "metadata": {},
   "outputs": [],
   "source": [
    "fig, ax = plt.subplots(figsize=(6, 4))\n",
    "data=en1\n",
    "ax.plot(data.index.values,\n",
    "        data['Settle'].values,\n",
    "        color='purple')\n",
    "fig.suptitle('RBOB Crack Spread Time Series', fontsize=20)\n",
    "event=pd.Series(data['Settle'].values, index=data.index.values)\n",
    "calmap.calendarplot(event, monthticks=1, daylabels='MTWTF',\n",
    "                    dayticks=1, cmap='YlGn',\n",
    "                    fillcolor='grey', linewidth=0,\n",
    "                    fig_kws=dict(figsize=(15, 8)),yearlabel_kws=dict(fontsize=15))\n",
    "\n",
    "fig.suptitle('European Naphtha Crack Spread Seasonality', fontsize=20)"
   ]
  },
  {
   "cell_type": "code",
   "execution_count": null,
   "metadata": {},
   "outputs": [],
   "source": [
    "fig, ax = plt.subplots(figsize=(6, 4))\n",
    "data=hk1\n",
    "ax.plot(data.index.values,\n",
    "        data['Settle'].values,\n",
    "        color='purple')\n",
    "fig.suptitle('RBOB Crack Spread Time Series', fontsize=20)\n",
    "event=pd.Series(data['Settle'].values, index=data.index.values)\n",
    "calmap.calendarplot(event, monthticks=1, daylabels='MTWTF',\n",
    "                    dayticks=1, cmap='YlGn',\n",
    "                    fillcolor='grey', linewidth=0,\n",
    "                    fig_kws=dict(figsize=(15, 8)),yearlabel_kws=dict(fontsize=15))\n",
    "\n",
    "fig.suptitle('Diesel Crack Spread Seasonality', fontsize=20)"
   ]
  },
  {
   "cell_type": "code",
   "execution_count": null,
   "metadata": {},
   "outputs": [],
   "source": [
    "fig, ax = plt.subplots(figsize=(6, 4))\n",
    "data=gz1\n",
    "ax.plot(data.index.values,\n",
    "        data['Settle'].values,\n",
    "        color='purple')\n",
    "fig.suptitle('RBOB Crack Spread Time Series', fontsize=20)\n",
    "event=pd.Series(data['Settle'].values, index=data.index.values)\n",
    "calmap.calendarplot(event, monthticks=1, daylabels='MTWTF',\n",
    "                    dayticks=1, cmap='YlGn',\n",
    "                    fillcolor='grey', linewidth=0,\n",
    "                    fig_kws=dict(figsize=(15, 8)),yearlabel_kws=dict(fontsize=15))\n",
    "\n",
    "fig.suptitle('Gasoil Crack Spread Seasonality', fontsize=20)"
   ]
  },
  {
   "cell_type": "code",
   "execution_count": null,
   "metadata": {},
   "outputs": [],
   "source": [
    "fig, ax = plt.subplots(figsize=(6, 4))\n",
    "data=gy1\n",
    "ax.plot(data.index.values,\n",
    "        data['Settle'].values,\n",
    "        color='purple')\n",
    "fig.suptitle('RBOB Crack Spread Time Series', fontsize=20)\n",
    "event=pd.Series(data['Settle'].values, index=data.index.values)\n",
    "calmap.calendarplot(event, monthticks=1, daylabels='MTWTF',\n",
    "                    dayticks=1, cmap='YlGn',\n",
    "                    fillcolor='grey', linewidth=0,\n",
    "                    fig_kws=dict(figsize=(15, 8)),yearlabel_kws=dict(fontsize=15))\n",
    "\n",
    "fig.suptitle('Gulf Crack Spread Seasonality', fontsize=20)"
   ]
  },
  {
   "cell_type": "code",
   "execution_count": null,
   "metadata": {},
   "outputs": [],
   "source": [
    "fig, ax = plt.subplots(figsize=(6, 4))\n",
    "data=nb1\n",
    "ax.plot(data.index.values,\n",
    "        data['Settle'].values,\n",
    "        color='purple')\n",
    "fig.suptitle('RBOB Crack Spread Time Series', fontsize=20)\n",
    "event=pd.Series(data['Settle'].values, index=data.index.values)\n",
    "calmap.calendarplot(event, monthticks=1, daylabels='MTWTF',\n",
    "                    dayticks=1, cmap='YlGn',\n",
    "                    fillcolor='grey', linewidth=0,\n",
    "                    fig_kws=dict(figsize=(15, 8)),yearlabel_kws=dict(fontsize=15))\n",
    "\n",
    "fig.suptitle('Sing Mogas Crack Spread Seasonality', fontsize=20)"
   ]
  },
  {
   "cell_type": "code",
   "execution_count": null,
   "metadata": {},
   "outputs": [],
   "source": [
    "fig, ax = plt.subplots(figsize=(6, 4))\n",
    "data=fo1\n",
    "ax.plot(data.index.values,\n",
    "        data['Settle'].values,\n",
    "        color='purple')\n",
    "fig.suptitle('RBOB Crack Spread Time Series', fontsize=20)\n",
    "event=pd.Series(data['Settle'].values, index=data.index.values)\n",
    "calmap.calendarplot(event, monthticks=1, daylabels='MTWTF',\n",
    "                    dayticks=1, cmap='YlGn',\n",
    "                    fillcolor='grey', linewidth=0,\n",
    "                    fig_kws=dict(figsize=(15, 8)),yearlabel_kws=dict(fontsize=15))\n",
    "\n",
    "fig.suptitle('Rdam Barges Crack Spread Seasonality', fontsize=20)"
   ]
  },
  {
   "cell_type": "code",
   "execution_count": null,
   "metadata": {},
   "outputs": [],
   "source": [
    "fig, ax = plt.subplots(figsize=(6, 4))\n",
    "data=k1\n",
    "ax.plot(data.index.values,\n",
    "        data['Settle'].values,\n",
    "        color='purple')\n",
    "fig.suptitle('RBOB Crack Spread Time Series', fontsize=20)\n",
    "event=pd.Series(data['Settle'].values, index=data.index.values)\n",
    "calmap.calendarplot(event, monthticks=1, daylabels='MTWTF',\n",
    "                    dayticks=1, cmap='YlGn',\n",
    "                    fillcolor='grey', linewidth=0,\n",
    "                    fig_kws=dict(figsize=(15, 8)),yearlabel_kws=dict(fontsize=15))\n",
    "\n",
    "fig.suptitle('EBOB Crack Spread Seasonality', fontsize=20)"
   ]
  },
  {
   "cell_type": "code",
   "execution_count": null,
   "metadata": {},
   "outputs": [],
   "source": [
    "fig, ax = plt.subplots(figsize=(6, 4))\n",
    "data=mg1\n",
    "ax.plot(data.index.values,\n",
    "        data['Settle'].values,\n",
    "        color='purple')\n",
    "fig.suptitle('RBOB Crack Spread Time Series', fontsize=20)\n",
    "event=pd.Series(data['Settle'].values, index=data.index.values)\n",
    "calmap.calendarplot(event, monthticks=1, daylabels='MTWTF',\n",
    "                    dayticks=1, cmap='YlGn',\n",
    "                    fillcolor='grey', linewidth=0,\n",
    "                    fig_kws=dict(figsize=(15, 8)),yearlabel_kws=dict(fontsize=15))\n",
    "\n",
    "fig.suptitle('Gulf #6 Crack Spread Seasonality', fontsize=20)"
   ]
  },
  {
   "cell_type": "code",
   "execution_count": null,
   "metadata": {},
   "outputs": [],
   "source": []
  }
 ],
 "metadata": {
  "kernelspec": {
   "display_name": "Python 3.7.6 64-bit ('EDA_SETUp': conda)",
   "language": "python",
   "name": "python37664bitedasetupcondab06303dbd2124ba8b0171813824c6339"
  },
  "language_info": {
   "codemirror_mode": {
    "name": "ipython",
    "version": 3
   },
   "file_extension": ".py",
   "mimetype": "text/x-python",
   "name": "python",
   "nbconvert_exporter": "python",
   "pygments_lexer": "ipython3",
   "version": "3.7.6"
  }
 },
 "nbformat": 4,
 "nbformat_minor": 2
}
